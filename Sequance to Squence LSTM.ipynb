{
 "cells": [
  {
   "cell_type": "markdown",
   "metadata": {},
   "source": [
    "# Sequence to Sequence Analysis With LSTM\n",
    "## Case Study: Tourist Arrival in Lombok\n",
    "*Ahmad Ashril Rizal*"
   ]
  },
  {
   "cell_type": "code",
   "execution_count": 5,
   "metadata": {},
   "outputs": [
    {
     "data": {
      "image/png": "[encoded data removed]",
      "text/plain": [
       "<matplotlib.figure.Figure at 0x7f263632ff98>"
      ]
     },
     "metadata": {},
     "output_type": "display_data"
    }
   ],
   "source": [
    "# load and plot dataset\n",
    "from pandas import read_csv\n",
    "from pandas import datetime\n",
    "from matplotlib import pyplot\n",
    "# load dataset\n",
    "def parser(x):\n",
    "    return datetime.strptime(''+x, '%Y-%m')\n",
    "series = read_csv('TouristArrivals.csv', header=0, parse_dates=[0], index_col=0, squeeze=True, date_parser=parser)\n",
    "# line plot\n",
    "series.plot()\n",
    "pyplot.show()"
   ]
  },
  {
   "cell_type": "markdown",
   "metadata": {},
   "source": [
    "# Data Preparation and Model Evaluation\n",
    "\n",
    "## Data Split\n",
    "\n",
    "70% dari dataset akan diambil sebagai data training dan 30% dari dataset adalah data testing. Model akan dikembangkan dengan menggunakan dataset pelatihan dan akan membuat prediksi pada dataset tes. Sebagai referensi, beberapa pengamatan terakhir adalah sebagai berikut:"
   ]
  },
  {
   "cell_type": "code",
   "execution_count": 6,
   "metadata": {},
   "outputs": [
    {
     "name": "stdout",
     "output_type": "stream",
     "text": [
      "Month\n",
      "2010-01-01    19435\n",
      "2010-02-01    13931\n",
      "2010-03-01    12292\n",
      "2010-04-01    13483\n",
      "2010-05-01    16781\n",
      "Name: #TouristArrivals, dtype: int64\n"
     ]
    }
   ],
   "source": [
    "print(series.head())"
   ]
  },
  {
   "cell_type": "markdown",
   "metadata": {},
   "source": [
    "## Sequence to sequence Forecast\n",
    "   Dari dataset akan dibuat prediksi dengan merancang dataset menjadi sliding window atau sequence to sequence. Untuk bulan tertentu dalam 12 bulan terakhir kumpulan data, akan dibuat time step dalam kurun waktu 3 bulan. Atau dengan kata lain, diberikan pengamatan historis (t-1, t-2, ... t-n) ramalan t, t + 1 dan t + 2.\n",
    "   Secara spesifik, untuk meramalkan kondisi di bulan April 2018, akan diramalkan dengan data Januari, Februari dan Maret. Untuk bulan Mei, diramalakan dengan data pada bulan Februari, Maret dan April\n",
    "\n",
    "Sebagai contoh 10 prakiraan dengan data 3 bulan sebelumnya, sebagai berikut:"
   ]
  },
  {
   "cell_type": "raw",
   "metadata": {},
   "source": [
    "Dec, Jan, Feb, Mar\n",
    "Jan, Feb, Mar, Apr\n",
    "Feb, Mar, Apr, May\n",
    "Mar, Apr, May, Jun\n",
    "Apr, May, Jun, Jul\n",
    "May, Jun, Jul, Aug\n",
    "Jun, Jul, Aug, Sep\n",
    "Jul, Aug, Sep, Oct\n",
    "Aug, Sep, Oct, Nov\n",
    "Sep, Oct, Nov, Dec"
   ]
  },
  {
   "cell_type": "code",
   "execution_count": 2,
   "metadata": {},
   "outputs": [],
   "source": [
    "# convert time series into supervised learning problem\n",
    "def series_to_supervised(data, n_in=1, n_out=1, dropnan=True):\n",
    "    n_vars = 1 if type(data) is list else data.shape[1]\n",
    "    df = DataFrame(data)\n",
    "    cols, names = list(), list()\n",
    "    # input sequence (t-n, ... t-1)\n",
    "    for i in range(n_in, 0, -1):\n",
    "        cols.append(df.shift(i))\n",
    "        names += [('var%d(t-%d)' % (j+1, i)) for j in range(n_vars)]\n",
    "        # forecast sequence (t, t+1, ... t+n)\n",
    "    for i in range(0, n_out):\n",
    "        cols.append(df.shift(-i))\n",
    "        if i == 0:\n",
    "            names += [('var%d(t)' % (j+1)) for j in range(n_vars)]\n",
    "        else:\n",
    "            names += [('var%d(t+%d)' % (j+1, i)) for j in range(n_vars)]\n",
    "    # put it all together\n",
    "    agg = concat(cols, axis=1)\n",
    "    agg.columns = names\n",
    "    # drop rows with NaN values\n",
    "    if dropnan:\n",
    "        agg.dropna(inplace=True)\n",
    "    return agg"
   ]
  },
  {
   "cell_type": "code",
   "execution_count": 10,
   "metadata": {},
   "outputs": [],
   "source": [
    "# transform series into train and test sets for supervised learning\n",
    "def prepare_data(series, n_test, n_lag, n_seq):\n",
    "\t# extract raw values\n",
    "\traw_values = series.values\n",
    "\traw_values = raw_values.reshape(len(raw_values), 1)\n",
    "\t# transform into supervised learning problem X, y\n",
    "\tsupervised = series_to_supervised(raw_values, n_lag, n_seq)\n",
    "\tsupervised_values = supervised.values\n",
    "\t# split into train and test sets\n",
    "\ttrain, test = supervised_values[0:-n_test], supervised_values[-n_test:]\n",
    "\treturn train, test"
   ]
  },
  {
   "cell_type": "code",
   "execution_count": 12,
   "metadata": {},
   "outputs": [
    {
     "name": "stdout",
     "output_type": "stream",
     "text": [
      "[[71930. 45715. 40774. 43845.]\n",
      " [45715. 40774. 43845. 53764.]\n",
      " [40774. 43845. 53764. 66190.]\n",
      " [43845. 53764. 66190. 84118.]\n",
      " [53764. 66190. 84118. 65172.]\n",
      " [66190. 84118. 65172. 77667.]\n",
      " [84118. 65172. 77667. 90449.]\n",
      " [65172. 77667. 90449. 57639.]\n",
      " [77667. 90449. 57639. 56733.]\n",
      " [90449. 57639. 56733. 70420.]]\n",
      "Train: (59, 4), Test: (10, 4)\n"
     ]
    }
   ],
   "source": [
    "from pandas import DataFrame\n",
    "from pandas import concat\n",
    "from pandas import read_csv\n",
    "from pandas import datetime\n",
    "\n",
    "# date-time parsing function for loading the dataset\n",
    "def parser(x):\n",
    "\treturn datetime.strptime(''+x, '%Y-%m')\n",
    "\n",
    "# convert time series into supervised learning problem\n",
    "def series_to_supervised(data, n_in=1, n_out=1, dropnan=True):\n",
    "\tn_vars = 1 if type(data) is list else data.shape[1]\n",
    "\tdf = DataFrame(data)\n",
    "\tcols, names = list(), list()\n",
    "\t# input sequence (t-n, ... t-1)\n",
    "\tfor i in range(n_in, 0, -1):\n",
    "\t\tcols.append(df.shift(i))\n",
    "\t\tnames += [('var%d(t-%d)' % (j+1, i)) for j in range(n_vars)]\n",
    "\t# forecast sequence (t, t+1, ... t+n)\n",
    "\tfor i in range(0, n_out):\n",
    "\t\tcols.append(df.shift(-i))\n",
    "\t\tif i == 0:\n",
    "\t\t\tnames += [('var%d(t)' % (j+1)) for j in range(n_vars)]\n",
    "\t\telse:\n",
    "\t\t\tnames += [('var%d(t+%d)' % (j+1, i)) for j in range(n_vars)]\n",
    "\t# put it all together\n",
    "\tagg = concat(cols, axis=1)\n",
    "\tagg.columns = names\n",
    "\t# drop rows with NaN values\n",
    "\tif dropnan:\n",
    "\t\tagg.dropna(inplace=True)\n",
    "\treturn agg\n",
    "\n",
    "# transform series into train and test sets for supervised learning\n",
    "def prepare_data(series, n_test, n_lag, n_seq):\n",
    "\t# extract raw values\n",
    "\traw_values = series.values\n",
    "\traw_values = raw_values.reshape(len(raw_values), 1)\n",
    "\t# transform into supervised learning problem X, y\n",
    "\tsupervised = series_to_supervised(raw_values, n_lag, n_seq)\n",
    "\tsupervised_values = supervised.values\n",
    "\t# split into train and test sets\n",
    "\ttrain, test = supervised_values[0:-n_test], supervised_values[-n_test:]\n",
    "\treturn train, test\n",
    "\n",
    "# load dataset\n",
    "series = read_csv('TouristArrivals.csv', header=0, parse_dates=[0], index_col=0, squeeze=True, date_parser=parser)\n",
    "# configure\n",
    "n_lag = 1\n",
    "n_seq = 3\n",
    "n_test = 10\n",
    "# prepare data\n",
    "train, test = prepare_data(series, n_test, n_lag, n_seq)\n",
    "print(test)\n",
    "print('Train: %s, Test: %s' % (train.shape, test.shape))"
   ]
  }
 ],
 "metadata": {
  "kernelspec": {
   "display_name": "my_lstm",
   "language": "python",
   "name": "my_lstm"
  },
  "language_info": {
   "codemirror_mode": {
    "name": "ipython",
    "version": 3
   },
   "file_extension": ".py",
   "mimetype": "text/x-python",
   "name": "python",
   "nbconvert_exporter": "python",
   "pygments_lexer": "ipython3",
   "version": "3.5.2"
  }
 },
 "nbformat": 4,
 "nbformat_minor": 2
}
